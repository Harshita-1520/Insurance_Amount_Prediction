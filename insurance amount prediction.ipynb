{
 "cells": [
  {
   "cell_type": "markdown",
   "id": "874de1a9-5d8b-42b5-b3ae-cf51cc2c53e3",
   "metadata": {},
   "source": [
    "# Isurance Amount Prediction using Linear Regression"
   ]
  },
  {
   "cell_type": "markdown",
   "id": "810ed91e-8893-493c-9891-8318c3d15bac",
   "metadata": {},
   "source": [
    "## Import Libraries"
   ]
  },
  {
   "cell_type": "code",
   "execution_count": 1,
   "id": "898443b5-16ba-480a-9087-5f3bfb837dad",
   "metadata": {},
   "outputs": [],
   "source": [
    "import pandas as pd\n",
    "import seaborn as sns\n",
    "import numpy as np\n",
    "import matplotlib.pyplot as plt"
   ]
  },
  {
   "cell_type": "code",
   "execution_count": 2,
   "id": "378c5d5c-b1d1-4e33-abc7-e1f251cb31c5",
   "metadata": {},
   "outputs": [],
   "source": [
    "# reading dataset\n",
    "df = pd.read_csv(\"insurance.csv\")"
   ]
  },
  {
   "cell_type": "code",
   "execution_count": 3,
   "id": "c9cefceb-5165-4164-8869-49c67cdb1534",
   "metadata": {},
   "outputs": [
    {
     "data": {
      "text/html": [
       "<div>\n",
       "<style scoped>\n",
       "    .dataframe tbody tr th:only-of-type {\n",
       "        vertical-align: middle;\n",
       "    }\n",
       "\n",
       "    .dataframe tbody tr th {\n",
       "        vertical-align: top;\n",
       "    }\n",
       "\n",
       "    .dataframe thead th {\n",
       "        text-align: right;\n",
       "    }\n",
       "</style>\n",
       "<table border=\"1\" class=\"dataframe\">\n",
       "  <thead>\n",
       "    <tr style=\"text-align: right;\">\n",
       "      <th></th>\n",
       "      <th>age</th>\n",
       "      <th>sex</th>\n",
       "      <th>bmi</th>\n",
       "      <th>children</th>\n",
       "      <th>smoker</th>\n",
       "      <th>region</th>\n",
       "      <th>charges</th>\n",
       "    </tr>\n",
       "  </thead>\n",
       "  <tbody>\n",
       "    <tr>\n",
       "      <th>0</th>\n",
       "      <td>19</td>\n",
       "      <td>female</td>\n",
       "      <td>27.900</td>\n",
       "      <td>0</td>\n",
       "      <td>yes</td>\n",
       "      <td>southwest</td>\n",
       "      <td>16884.92400</td>\n",
       "    </tr>\n",
       "    <tr>\n",
       "      <th>1</th>\n",
       "      <td>18</td>\n",
       "      <td>male</td>\n",
       "      <td>33.770</td>\n",
       "      <td>1</td>\n",
       "      <td>no</td>\n",
       "      <td>southeast</td>\n",
       "      <td>1725.55230</td>\n",
       "    </tr>\n",
       "    <tr>\n",
       "      <th>2</th>\n",
       "      <td>28</td>\n",
       "      <td>male</td>\n",
       "      <td>33.000</td>\n",
       "      <td>3</td>\n",
       "      <td>no</td>\n",
       "      <td>southeast</td>\n",
       "      <td>4449.46200</td>\n",
       "    </tr>\n",
       "    <tr>\n",
       "      <th>3</th>\n",
       "      <td>33</td>\n",
       "      <td>male</td>\n",
       "      <td>22.705</td>\n",
       "      <td>0</td>\n",
       "      <td>no</td>\n",
       "      <td>northwest</td>\n",
       "      <td>21984.47061</td>\n",
       "    </tr>\n",
       "    <tr>\n",
       "      <th>4</th>\n",
       "      <td>32</td>\n",
       "      <td>male</td>\n",
       "      <td>28.880</td>\n",
       "      <td>0</td>\n",
       "      <td>no</td>\n",
       "      <td>northwest</td>\n",
       "      <td>3866.85520</td>\n",
       "    </tr>\n",
       "  </tbody>\n",
       "</table>\n",
       "</div>"
      ],
      "text/plain": [
       "   age     sex     bmi  children smoker     region      charges\n",
       "0   19  female  27.900         0    yes  southwest  16884.92400\n",
       "1   18    male  33.770         1     no  southeast   1725.55230\n",
       "2   28    male  33.000         3     no  southeast   4449.46200\n",
       "3   33    male  22.705         0     no  northwest  21984.47061\n",
       "4   32    male  28.880         0     no  northwest   3866.85520"
      ]
     },
     "execution_count": 3,
     "metadata": {},
     "output_type": "execute_result"
    }
   ],
   "source": [
    "df.head()"
   ]
  },
  {
   "cell_type": "code",
   "execution_count": 4,
   "id": "fd288282-8c77-4a44-bdd2-ac703d52ea38",
   "metadata": {},
   "outputs": [
    {
     "name": "stdout",
     "output_type": "stream",
     "text": [
      "<class 'pandas.core.frame.DataFrame'>\n",
      "RangeIndex: 1338 entries, 0 to 1337\n",
      "Data columns (total 7 columns):\n",
      " #   Column    Non-Null Count  Dtype  \n",
      "---  ------    --------------  -----  \n",
      " 0   age       1338 non-null   int64  \n",
      " 1   sex       1338 non-null   object \n",
      " 2   bmi       1338 non-null   float64\n",
      " 3   children  1338 non-null   int64  \n",
      " 4   smoker    1338 non-null   object \n",
      " 5   region    1338 non-null   object \n",
      " 6   charges   1338 non-null   float64\n",
      "dtypes: float64(2), int64(2), object(3)\n",
      "memory usage: 73.3+ KB\n"
     ]
    }
   ],
   "source": [
    "df.info()"
   ]
  },
  {
   "cell_type": "code",
   "execution_count": 5,
   "id": "37afaa69-5671-47f7-b416-29e8cdf5cf4e",
   "metadata": {},
   "outputs": [],
   "source": [
    "#  check for duplicates\n",
    "\n",
    "# df.duplicated().sum()\n",
    "\n",
    "index = df[df.duplicated()].index\n",
    "df.drop(index = index, inplace = True)"
   ]
  },
  {
   "cell_type": "code",
   "execution_count": 10,
   "id": "6eb448fa-3a7b-4811-a785-f63477995ad2",
   "metadata": {},
   "outputs": [],
   "source": [
    "## split the data into train and test for tuning into the model\n",
    "from sklearn.model_selection import train_test_split\n"
   ]
  },
  {
   "cell_type": "code",
   "execution_count": 11,
   "id": "41587965-a892-4c8e-b42f-25b69bb1d08f",
   "metadata": {},
   "outputs": [
    {
     "data": {
      "text/plain": [
       "((1337, 6), (1337,))"
      ]
     },
     "execution_count": 11,
     "metadata": {},
     "output_type": "execute_result"
    }
   ],
   "source": [
    "X = df.drop(columns = [\"charges\"])\n",
    "y = df[\"charges\"]\n",
    "X.shape , y.shape"
   ]
  },
  {
   "cell_type": "code",
   "execution_count": 12,
   "id": "cb164011-13c1-4073-af34-651eddc482b0",
   "metadata": {},
   "outputs": [
    {
     "data": {
      "text/html": [
       "<div>\n",
       "<style scoped>\n",
       "    .dataframe tbody tr th:only-of-type {\n",
       "        vertical-align: middle;\n",
       "    }\n",
       "\n",
       "    .dataframe tbody tr th {\n",
       "        vertical-align: top;\n",
       "    }\n",
       "\n",
       "    .dataframe thead th {\n",
       "        text-align: right;\n",
       "    }\n",
       "</style>\n",
       "<table border=\"1\" class=\"dataframe\">\n",
       "  <thead>\n",
       "    <tr style=\"text-align: right;\">\n",
       "      <th></th>\n",
       "      <th>age</th>\n",
       "      <th>bmi</th>\n",
       "      <th>children</th>\n",
       "      <th>charges</th>\n",
       "    </tr>\n",
       "  </thead>\n",
       "  <tbody>\n",
       "    <tr>\n",
       "      <th>count</th>\n",
       "      <td>1337.000000</td>\n",
       "      <td>1337.000000</td>\n",
       "      <td>1337.000000</td>\n",
       "      <td>1337.000000</td>\n",
       "    </tr>\n",
       "    <tr>\n",
       "      <th>mean</th>\n",
       "      <td>39.222139</td>\n",
       "      <td>30.663452</td>\n",
       "      <td>1.095737</td>\n",
       "      <td>13279.121487</td>\n",
       "    </tr>\n",
       "    <tr>\n",
       "      <th>std</th>\n",
       "      <td>14.044333</td>\n",
       "      <td>6.100468</td>\n",
       "      <td>1.205571</td>\n",
       "      <td>12110.359656</td>\n",
       "    </tr>\n",
       "    <tr>\n",
       "      <th>min</th>\n",
       "      <td>18.000000</td>\n",
       "      <td>15.960000</td>\n",
       "      <td>0.000000</td>\n",
       "      <td>1121.873900</td>\n",
       "    </tr>\n",
       "    <tr>\n",
       "      <th>25%</th>\n",
       "      <td>27.000000</td>\n",
       "      <td>26.290000</td>\n",
       "      <td>0.000000</td>\n",
       "      <td>4746.344000</td>\n",
       "    </tr>\n",
       "    <tr>\n",
       "      <th>50%</th>\n",
       "      <td>39.000000</td>\n",
       "      <td>30.400000</td>\n",
       "      <td>1.000000</td>\n",
       "      <td>9386.161300</td>\n",
       "    </tr>\n",
       "    <tr>\n",
       "      <th>75%</th>\n",
       "      <td>51.000000</td>\n",
       "      <td>34.700000</td>\n",
       "      <td>2.000000</td>\n",
       "      <td>16657.717450</td>\n",
       "    </tr>\n",
       "    <tr>\n",
       "      <th>max</th>\n",
       "      <td>64.000000</td>\n",
       "      <td>53.130000</td>\n",
       "      <td>5.000000</td>\n",
       "      <td>63770.428010</td>\n",
       "    </tr>\n",
       "  </tbody>\n",
       "</table>\n",
       "</div>"
      ],
      "text/plain": [
       "               age          bmi     children       charges\n",
       "count  1337.000000  1337.000000  1337.000000   1337.000000\n",
       "mean     39.222139    30.663452     1.095737  13279.121487\n",
       "std      14.044333     6.100468     1.205571  12110.359656\n",
       "min      18.000000    15.960000     0.000000   1121.873900\n",
       "25%      27.000000    26.290000     0.000000   4746.344000\n",
       "50%      39.000000    30.400000     1.000000   9386.161300\n",
       "75%      51.000000    34.700000     2.000000  16657.717450\n",
       "max      64.000000    53.130000     5.000000  63770.428010"
      ]
     },
     "execution_count": 12,
     "metadata": {},
     "output_type": "execute_result"
    }
   ],
   "source": [
    "df.describe()"
   ]
  },
  {
   "cell_type": "code",
   "execution_count": 13,
   "id": "eef70ddc-77b5-40ba-bcc2-bf441c1a2e4e",
   "metadata": {},
   "outputs": [
    {
     "name": "stdout",
     "output_type": "stream",
     "text": [
      " shape of X: (1337, 6)\n",
      " shape of X_train: (1069, 6)\n",
      " shape of X_test: (268, 6)\n",
      " shape of y_train: (1069,)\n",
      " shape of y_test: (268,)\n"
     ]
    }
   ],
   "source": [
    "X_train , X_test, y_train , y_test = train_test_split(X , y, test_size = 0.20, random_state = 42)\n",
    "\n",
    "\n",
    "print(f\" shape of X: {X.shape}\")\n",
    "print(f\" shape of X_train: {X_train.shape}\")\n",
    "print(f\" shape of X_test: {X_test.shape}\")\n",
    "print(f\" shape of y_train: {y_train.shape}\")\n",
    "print(f\" shape of y_test: {y_test.shape}\")"
   ]
  },
  {
   "cell_type": "code",
   "execution_count": 14,
   "id": "7011c6e8-f82f-44e9-baac-920c713fe93a",
   "metadata": {},
   "outputs": [],
   "source": [
    "temp_df_train = X_train.copy()\n",
    "temp_df_train[\"charges\"] = y_train\n",
    "\n",
    "temp_df_test = X_test.copy()\n",
    "temp_df_test[\"charges\"] = y_test"
   ]
  },
  {
   "cell_type": "code",
   "execution_count": 15,
   "id": "0a7fbcbb-5221-4c27-ab94-168c540f29a0",
   "metadata": {},
   "outputs": [],
   "source": [
    "## printing upper whisker , lower whisker and outliers in each column\n",
    "def outlier(X_train, X_test):\n",
    "\n",
    "  num_cols = [col for col in X_train.columns if X_train[col].dtypes != \"object\"]\n",
    "  for col in num_cols:\n",
    "    q1 = X_train[col].quantile(0.25)\n",
    "    q3 = X_train[col].quantile(0.75)\n",
    "    iqr = q3 - q1\n",
    "    lw = q1 - 1.5*iqr\n",
    "    uw = q3 + 1.5*iqr\n",
    "\n",
    "    num_outlier_train = len(X_train[(X_train[col] > uw) | (X_train[col] < lw)])\n",
    "    num_outlier_test = len(X_test[(X_test[col] > uw) | (X_test[col] < lw)])\n",
    "    print(f\"for column {col}, lw = {lw}, uw = {uw}\")\n",
    "    print(f\"no. of train_outliers --> {num_outlier_train}, {round(num_outlier_train/ len(X_train),4) * 100}%\")\n",
    "    print(f\"no. of test_outliers --> {num_outlier_test} ,  {round(num_outlier_test/ len(X_test),4) * 100}%\")\n",
    "    print(\"---------------------------\")\n",
    "\n"
   ]
  },
  {
   "cell_type": "code",
   "execution_count": 17,
   "id": "367d6e9c-6c0d-4ad8-a160-3fd93b327160",
   "metadata": {},
   "outputs": [
    {
     "name": "stdout",
     "output_type": "stream",
     "text": [
      "for column age, lw = -9.0, uw = 87.0\n",
      "no. of train_outliers --> 0, 0.0%\n",
      "no. of test_outliers --> 0 ,  0.0%\n",
      "---------------------------\n",
      "for column bmi, lw = 13.805, uw = 46.805\n",
      "no. of train_outliers --> 6, 0.5599999999999999%\n",
      "no. of test_outliers --> 3 ,  1.1199999999999999%\n",
      "---------------------------\n",
      "for column children, lw = -3.0, uw = 5.0\n",
      "no. of train_outliers --> 0, 0.0%\n",
      "no. of test_outliers --> 0 ,  0.0%\n",
      "---------------------------\n",
      "for column charges, lw = -12808.709800000004, uw = 34006.657400000004\n",
      "no. of train_outliers --> 106, 9.92%\n",
      "no. of test_outliers --> 38 ,  14.180000000000001%\n",
      "---------------------------\n"
     ]
    }
   ],
   "source": [
    "outlier(temp_df_train, temp_df_test)"
   ]
  },
  {
   "cell_type": "code",
   "execution_count": 18,
   "id": "dfe3461e-322d-451f-ac63-872b153a8795",
   "metadata": {},
   "outputs": [
    {
     "data": {
      "text/html": [
       "<div>\n",
       "<style scoped>\n",
       "    .dataframe tbody tr th:only-of-type {\n",
       "        vertical-align: middle;\n",
       "    }\n",
       "\n",
       "    .dataframe tbody tr th {\n",
       "        vertical-align: top;\n",
       "    }\n",
       "\n",
       "    .dataframe thead th {\n",
       "        text-align: right;\n",
       "    }\n",
       "</style>\n",
       "<table border=\"1\" class=\"dataframe\">\n",
       "  <thead>\n",
       "    <tr style=\"text-align: right;\">\n",
       "      <th></th>\n",
       "      <th>age</th>\n",
       "      <th>sex</th>\n",
       "      <th>bmi</th>\n",
       "      <th>children</th>\n",
       "      <th>smoker</th>\n",
       "      <th>region</th>\n",
       "      <th>charges</th>\n",
       "    </tr>\n",
       "  </thead>\n",
       "  <tbody>\n",
       "    <tr>\n",
       "      <th>1240</th>\n",
       "      <td>52</td>\n",
       "      <td>male</td>\n",
       "      <td>41.80</td>\n",
       "      <td>2</td>\n",
       "      <td>yes</td>\n",
       "      <td>southeast</td>\n",
       "      <td>47269.8540</td>\n",
       "    </tr>\n",
       "    <tr>\n",
       "      <th>1062</th>\n",
       "      <td>59</td>\n",
       "      <td>male</td>\n",
       "      <td>41.14</td>\n",
       "      <td>1</td>\n",
       "      <td>yes</td>\n",
       "      <td>southeast</td>\n",
       "      <td>48970.2476</td>\n",
       "    </tr>\n",
       "    <tr>\n",
       "      <th>158</th>\n",
       "      <td>30</td>\n",
       "      <td>male</td>\n",
       "      <td>35.53</td>\n",
       "      <td>0</td>\n",
       "      <td>yes</td>\n",
       "      <td>southeast</td>\n",
       "      <td>36950.2567</td>\n",
       "    </tr>\n",
       "    <tr>\n",
       "      <th>850</th>\n",
       "      <td>37</td>\n",
       "      <td>female</td>\n",
       "      <td>30.78</td>\n",
       "      <td>0</td>\n",
       "      <td>yes</td>\n",
       "      <td>northeast</td>\n",
       "      <td>37270.1512</td>\n",
       "    </tr>\n",
       "    <tr>\n",
       "      <th>901</th>\n",
       "      <td>60</td>\n",
       "      <td>male</td>\n",
       "      <td>40.92</td>\n",
       "      <td>0</td>\n",
       "      <td>yes</td>\n",
       "      <td>southeast</td>\n",
       "      <td>48673.5588</td>\n",
       "    </tr>\n",
       "  </tbody>\n",
       "</table>\n",
       "</div>"
      ],
      "text/plain": [
       "      age     sex    bmi  children smoker     region     charges\n",
       "1240   52    male  41.80         2    yes  southeast  47269.8540\n",
       "1062   59    male  41.14         1    yes  southeast  48970.2476\n",
       "158    30    male  35.53         0    yes  southeast  36950.2567\n",
       "850    37  female  30.78         0    yes  northeast  37270.1512\n",
       "901    60    male  40.92         0    yes  southeast  48673.5588"
      ]
     },
     "execution_count": 18,
     "metadata": {},
     "output_type": "execute_result"
    }
   ],
   "source": [
    "uw = 34520.14241875\n",
    "lw = -12875.817631250002\n",
    "out_df = temp_df_train[(temp_df_train[\"charges\"] > uw) | (temp_df_train[\"charges\"] < lw)]\n",
    "out_df.head()"
   ]
  },
  {
   "cell_type": "code",
   "execution_count": 19,
   "id": "2c28a66c-91a1-42f8-b643-7e9cbee393dd",
   "metadata": {},
   "outputs": [
    {
     "data": {
      "text/plain": [
       "<Axes: xlabel='smoker', ylabel='charges'>"
      ]
     },
     "execution_count": 19,
     "metadata": {},
     "output_type": "execute_result"
    },
    {
     "data": {
      "image/png": "[encoded data removed]",
      "text/plain": [
       "<Figure size 640x480 with 1 Axes>"
      ]
     },
     "metadata": {},
     "output_type": "display_data"
    }
   ],
   "source": [
    "sns.stripplot(data = out_df, x = \"smoker\", y= \"charges\", hue = \"smoker\")"
   ]
  },
  {
   "cell_type": "code",
   "execution_count": 20,
   "id": "f83b188a-f76a-450a-9200-100e6d63a479",
   "metadata": {},
   "outputs": [
    {
     "data": {
      "text/plain": [
       "<Axes: >"
      ]
     },
     "execution_count": 20,
     "metadata": {},
     "output_type": "execute_result"
    },
    {
     "data": {
      "image/png": "[encoded data removed]",
      "text/plain": [
       "<Figure size 640x480 with 1 Axes>"
      ]
     },
     "metadata": {},
     "output_type": "display_data"
    }
   ],
   "source": [
    "# chaecking distribution of charrges column i.e. output coulmn\n",
    "sns.boxplot(temp_df_train[\"charges\"])"
   ]
  },
  {
   "cell_type": "code",
   "execution_count": 63,
   "id": "b1dc6c79-5bce-42cc-94f7-9dd256214946",
   "metadata": {},
   "outputs": [
    {
     "ename": "KeyError",
     "evalue": "'charges'",
     "output_type": "error",
     "traceback": [
      "\u001b[1;31m---------------------------------------------------------------------------\u001b[0m",
      "\u001b[1;31mKeyError\u001b[0m                                  Traceback (most recent call last)",
      "File \u001b[1;32m~\\AppData\\Local\\Programs\\Python\\Python311\\Lib\\site-packages\\pandas\\core\\indexes\\base.py:3653\u001b[0m, in \u001b[0;36mIndex.get_loc\u001b[1;34m(self, key)\u001b[0m\n\u001b[0;32m   3652\u001b[0m \u001b[38;5;28;01mtry\u001b[39;00m:\n\u001b[1;32m-> 3653\u001b[0m     \u001b[38;5;28;01mreturn\u001b[39;00m \u001b[38;5;28;43mself\u001b[39;49m\u001b[38;5;241;43m.\u001b[39;49m\u001b[43m_engine\u001b[49m\u001b[38;5;241;43m.\u001b[39;49m\u001b[43mget_loc\u001b[49m\u001b[43m(\u001b[49m\u001b[43mcasted_key\u001b[49m\u001b[43m)\u001b[49m\n\u001b[0;32m   3654\u001b[0m \u001b[38;5;28;01mexcept\u001b[39;00m \u001b[38;5;167;01mKeyError\u001b[39;00m \u001b[38;5;28;01mas\u001b[39;00m err:\n",
      "File \u001b[1;32m~\\AppData\\Local\\Programs\\Python\\Python311\\Lib\\site-packages\\pandas\\_libs\\index.pyx:147\u001b[0m, in \u001b[0;36mpandas._libs.index.IndexEngine.get_loc\u001b[1;34m()\u001b[0m\n",
      "File \u001b[1;32m~\\AppData\\Local\\Programs\\Python\\Python311\\Lib\\site-packages\\pandas\\_libs\\index.pyx:176\u001b[0m, in \u001b[0;36mpandas._libs.index.IndexEngine.get_loc\u001b[1;34m()\u001b[0m\n",
      "File \u001b[1;32mpandas\\_libs\\hashtable_class_helper.pxi:7080\u001b[0m, in \u001b[0;36mpandas._libs.hashtable.PyObjectHashTable.get_item\u001b[1;34m()\u001b[0m\n",
      "File \u001b[1;32mpandas\\_libs\\hashtable_class_helper.pxi:7088\u001b[0m, in \u001b[0;36mpandas._libs.hashtable.PyObjectHashTable.get_item\u001b[1;34m()\u001b[0m\n",
      "\u001b[1;31mKeyError\u001b[0m: 'charges'",
      "\nThe above exception was the direct cause of the following exception:\n",
      "\u001b[1;31mKeyError\u001b[0m                                  Traceback (most recent call last)",
      "Cell \u001b[1;32mIn[63], line 2\u001b[0m\n\u001b[0;32m      1\u001b[0m \u001b[38;5;66;03m# after taking its log transformation it became normally distributrd\u001b[39;00m\n\u001b[1;32m----> 2\u001b[0m sns\u001b[38;5;241m.\u001b[39mboxplot(np\u001b[38;5;241m.\u001b[39mlog(\u001b[43mtemp_df_train\u001b[49m\u001b[43m[\u001b[49m\u001b[38;5;124;43m\"\u001b[39;49m\u001b[38;5;124;43mcharges\u001b[39;49m\u001b[38;5;124;43m\"\u001b[39;49m\u001b[43m]\u001b[49m))\n",
      "File \u001b[1;32m~\\AppData\\Local\\Programs\\Python\\Python311\\Lib\\site-packages\\pandas\\core\\frame.py:3761\u001b[0m, in \u001b[0;36mDataFrame.__getitem__\u001b[1;34m(self, key)\u001b[0m\n\u001b[0;32m   3759\u001b[0m \u001b[38;5;28;01mif\u001b[39;00m \u001b[38;5;28mself\u001b[39m\u001b[38;5;241m.\u001b[39mcolumns\u001b[38;5;241m.\u001b[39mnlevels \u001b[38;5;241m>\u001b[39m \u001b[38;5;241m1\u001b[39m:\n\u001b[0;32m   3760\u001b[0m     \u001b[38;5;28;01mreturn\u001b[39;00m \u001b[38;5;28mself\u001b[39m\u001b[38;5;241m.\u001b[39m_getitem_multilevel(key)\n\u001b[1;32m-> 3761\u001b[0m indexer \u001b[38;5;241m=\u001b[39m \u001b[38;5;28;43mself\u001b[39;49m\u001b[38;5;241;43m.\u001b[39;49m\u001b[43mcolumns\u001b[49m\u001b[38;5;241;43m.\u001b[39;49m\u001b[43mget_loc\u001b[49m\u001b[43m(\u001b[49m\u001b[43mkey\u001b[49m\u001b[43m)\u001b[49m\n\u001b[0;32m   3762\u001b[0m \u001b[38;5;28;01mif\u001b[39;00m is_integer(indexer):\n\u001b[0;32m   3763\u001b[0m     indexer \u001b[38;5;241m=\u001b[39m [indexer]\n",
      "File \u001b[1;32m~\\AppData\\Local\\Programs\\Python\\Python311\\Lib\\site-packages\\pandas\\core\\indexes\\base.py:3655\u001b[0m, in \u001b[0;36mIndex.get_loc\u001b[1;34m(self, key)\u001b[0m\n\u001b[0;32m   3653\u001b[0m     \u001b[38;5;28;01mreturn\u001b[39;00m \u001b[38;5;28mself\u001b[39m\u001b[38;5;241m.\u001b[39m_engine\u001b[38;5;241m.\u001b[39mget_loc(casted_key)\n\u001b[0;32m   3654\u001b[0m \u001b[38;5;28;01mexcept\u001b[39;00m \u001b[38;5;167;01mKeyError\u001b[39;00m \u001b[38;5;28;01mas\u001b[39;00m err:\n\u001b[1;32m-> 3655\u001b[0m     \u001b[38;5;28;01mraise\u001b[39;00m \u001b[38;5;167;01mKeyError\u001b[39;00m(key) \u001b[38;5;28;01mfrom\u001b[39;00m \u001b[38;5;21;01merr\u001b[39;00m\n\u001b[0;32m   3656\u001b[0m \u001b[38;5;28;01mexcept\u001b[39;00m \u001b[38;5;167;01mTypeError\u001b[39;00m:\n\u001b[0;32m   3657\u001b[0m     \u001b[38;5;66;03m# If we have a listlike key, _check_indexing_error will raise\u001b[39;00m\n\u001b[0;32m   3658\u001b[0m     \u001b[38;5;66;03m#  InvalidIndexError. Otherwise we fall through and re-raise\u001b[39;00m\n\u001b[0;32m   3659\u001b[0m     \u001b[38;5;66;03m#  the TypeError.\u001b[39;00m\n\u001b[0;32m   3660\u001b[0m     \u001b[38;5;28mself\u001b[39m\u001b[38;5;241m.\u001b[39m_check_indexing_error(key)\n",
      "\u001b[1;31mKeyError\u001b[0m: 'charges'"
     ]
    }
   ],
   "source": [
    "# after taking its log transformation it became normally distributrd\n",
    "sns.boxplot(np.log(temp_df_train[\"charges\"]))"
   ]
  },
  {
   "cell_type": "code",
   "execution_count": 22,
   "id": "0f49acb7-a4d9-4296-b35a-799dcac9b35b",
   "metadata": {},
   "outputs": [
    {
     "data": {
      "text/plain": [
       "<Axes: xlabel='charges', ylabel='Density'>"
      ]
     },
     "execution_count": 22,
     "metadata": {},
     "output_type": "execute_result"
    },
    {
     "data": {
      "image/png": "[encoded data removed]",
      "text/plain": [
       "<Figure size 640x480 with 1 Axes>"
      ]
     },
     "metadata": {},
     "output_type": "display_data"
    }
   ],
   "source": [
    "sns.kdeplot(np.log(temp_df_train[\"charges\"]))"
   ]
  },
  {
   "cell_type": "code",
   "execution_count": 23,
   "id": "b7755d3e-1374-4b1f-909c-2622994625b2",
   "metadata": {},
   "outputs": [
    {
     "data": {
      "text/html": [
       "<div>\n",
       "<style scoped>\n",
       "    .dataframe tbody tr th:only-of-type {\n",
       "        vertical-align: middle;\n",
       "    }\n",
       "\n",
       "    .dataframe tbody tr th {\n",
       "        vertical-align: top;\n",
       "    }\n",
       "\n",
       "    .dataframe thead th {\n",
       "        text-align: right;\n",
       "    }\n",
       "</style>\n",
       "<table border=\"1\" class=\"dataframe\">\n",
       "  <thead>\n",
       "    <tr style=\"text-align: right;\">\n",
       "      <th></th>\n",
       "      <th>age</th>\n",
       "      <th>sex</th>\n",
       "      <th>bmi</th>\n",
       "      <th>children</th>\n",
       "      <th>smoker</th>\n",
       "      <th>region</th>\n",
       "    </tr>\n",
       "  </thead>\n",
       "  <tbody>\n",
       "    <tr>\n",
       "      <th>1114</th>\n",
       "      <td>23</td>\n",
       "      <td>male</td>\n",
       "      <td>24.510</td>\n",
       "      <td>0</td>\n",
       "      <td>no</td>\n",
       "      <td>northeast</td>\n",
       "    </tr>\n",
       "    <tr>\n",
       "      <th>968</th>\n",
       "      <td>21</td>\n",
       "      <td>male</td>\n",
       "      <td>25.745</td>\n",
       "      <td>2</td>\n",
       "      <td>no</td>\n",
       "      <td>northeast</td>\n",
       "    </tr>\n",
       "    <tr>\n",
       "      <th>599</th>\n",
       "      <td>52</td>\n",
       "      <td>female</td>\n",
       "      <td>37.525</td>\n",
       "      <td>2</td>\n",
       "      <td>no</td>\n",
       "      <td>northwest</td>\n",
       "    </tr>\n",
       "    <tr>\n",
       "      <th>170</th>\n",
       "      <td>63</td>\n",
       "      <td>male</td>\n",
       "      <td>41.470</td>\n",
       "      <td>0</td>\n",
       "      <td>no</td>\n",
       "      <td>southeast</td>\n",
       "    </tr>\n",
       "    <tr>\n",
       "      <th>275</th>\n",
       "      <td>47</td>\n",
       "      <td>female</td>\n",
       "      <td>26.600</td>\n",
       "      <td>2</td>\n",
       "      <td>no</td>\n",
       "      <td>northeast</td>\n",
       "    </tr>\n",
       "  </tbody>\n",
       "</table>\n",
       "</div>"
      ],
      "text/plain": [
       "      age     sex     bmi  children smoker     region\n",
       "1114   23    male  24.510         0     no  northeast\n",
       "968    21    male  25.745         2     no  northeast\n",
       "599    52  female  37.525         2     no  northwest\n",
       "170    63    male  41.470         0     no  southeast\n",
       "275    47  female  26.600         2     no  northeast"
      ]
     },
     "execution_count": 23,
     "metadata": {},
     "output_type": "execute_result"
    }
   ],
   "source": [
    "X_train.head()"
   ]
  },
  {
   "cell_type": "code",
   "execution_count": 24,
   "id": "574d98d9-d708-417f-9eba-0323afd3cce7",
   "metadata": {},
   "outputs": [],
   "source": [
    "## encodeing data to feed into machine learning moodel\n",
    "from sklearn.preprocessing import OrdinalEncoder\n",
    "from sklearn.preprocessing import OneHotEncoder\n",
    "\n",
    "gender_encode = OrdinalEncoder()\n",
    "smoker_encode = OrdinalEncoder()\n",
    "region_encode = OneHotEncoder(sparse_output = False, drop = \"first\")\n",
    "\n",
    "X_train[\"sex\"] = gender_encode.fit_transform(X_train[[\"sex\"]])\n",
    "X_test[\"sex\"] = gender_encode.transform(X_test[[\"sex\"]])\n",
    "\n",
    "X_train[\"smoker\"] = smoker_encode.fit_transform(X_train[[\"smoker\"]])\n",
    "X_test[\"smoker\"] = smoker_encode.transform(X_test[[\"smoker\"]])"
   ]
  },
  {
   "cell_type": "code",
   "execution_count": 25,
   "id": "5f07894f-4e4c-4100-b630-a54307aa2f60",
   "metadata": {},
   "outputs": [
    {
     "data": {
      "text/html": [
       "<div>\n",
       "<style scoped>\n",
       "    .dataframe tbody tr th:only-of-type {\n",
       "        vertical-align: middle;\n",
       "    }\n",
       "\n",
       "    .dataframe tbody tr th {\n",
       "        vertical-align: top;\n",
       "    }\n",
       "\n",
       "    .dataframe thead th {\n",
       "        text-align: right;\n",
       "    }\n",
       "</style>\n",
       "<table border=\"1\" class=\"dataframe\">\n",
       "  <thead>\n",
       "    <tr style=\"text-align: right;\">\n",
       "      <th></th>\n",
       "      <th>age</th>\n",
       "      <th>sex</th>\n",
       "      <th>bmi</th>\n",
       "      <th>children</th>\n",
       "      <th>smoker</th>\n",
       "      <th>region</th>\n",
       "    </tr>\n",
       "  </thead>\n",
       "  <tbody>\n",
       "    <tr>\n",
       "      <th>1114</th>\n",
       "      <td>23</td>\n",
       "      <td>1.0</td>\n",
       "      <td>24.510</td>\n",
       "      <td>0</td>\n",
       "      <td>0.0</td>\n",
       "      <td>northeast</td>\n",
       "    </tr>\n",
       "    <tr>\n",
       "      <th>968</th>\n",
       "      <td>21</td>\n",
       "      <td>1.0</td>\n",
       "      <td>25.745</td>\n",
       "      <td>2</td>\n",
       "      <td>0.0</td>\n",
       "      <td>northeast</td>\n",
       "    </tr>\n",
       "    <tr>\n",
       "      <th>599</th>\n",
       "      <td>52</td>\n",
       "      <td>0.0</td>\n",
       "      <td>37.525</td>\n",
       "      <td>2</td>\n",
       "      <td>0.0</td>\n",
       "      <td>northwest</td>\n",
       "    </tr>\n",
       "    <tr>\n",
       "      <th>170</th>\n",
       "      <td>63</td>\n",
       "      <td>1.0</td>\n",
       "      <td>41.470</td>\n",
       "      <td>0</td>\n",
       "      <td>0.0</td>\n",
       "      <td>southeast</td>\n",
       "    </tr>\n",
       "    <tr>\n",
       "      <th>275</th>\n",
       "      <td>47</td>\n",
       "      <td>0.0</td>\n",
       "      <td>26.600</td>\n",
       "      <td>2</td>\n",
       "      <td>0.0</td>\n",
       "      <td>northeast</td>\n",
       "    </tr>\n",
       "  </tbody>\n",
       "</table>\n",
       "</div>"
      ],
      "text/plain": [
       "      age  sex     bmi  children  smoker     region\n",
       "1114   23  1.0  24.510         0     0.0  northeast\n",
       "968    21  1.0  25.745         2     0.0  northeast\n",
       "599    52  0.0  37.525         2     0.0  northwest\n",
       "170    63  1.0  41.470         0     0.0  southeast\n",
       "275    47  0.0  26.600         2     0.0  northeast"
      ]
     },
     "execution_count": 25,
     "metadata": {},
     "output_type": "execute_result"
    }
   ],
   "source": [
    "X_train.head()"
   ]
  },
  {
   "cell_type": "code",
   "execution_count": 26,
   "id": "4b6666b2-508f-412a-8917-836a46a599a1",
   "metadata": {},
   "outputs": [
    {
     "data": {
      "text/plain": [
       "array([[0., 0., 0.],\n",
       "       [0., 0., 0.],\n",
       "       [1., 0., 0.],\n",
       "       ...,\n",
       "       [0., 0., 1.],\n",
       "       [0., 0., 1.],\n",
       "       [0., 1., 0.]])"
      ]
     },
     "execution_count": 26,
     "metadata": {},
     "output_type": "execute_result"
    }
   ],
   "source": [
    "region_encode.fit_transform(X_train[[\"region\"]])"
   ]
  },
  {
   "cell_type": "code",
   "execution_count": 27,
   "id": "01156b38-7173-444e-b048-af536af63956",
   "metadata": {},
   "outputs": [
    {
     "data": {
      "text/plain": [
       "array(['region_northwest', 'region_southeast', 'region_southwest'],\n",
       "      dtype=object)"
      ]
     },
     "execution_count": 27,
     "metadata": {},
     "output_type": "execute_result"
    }
   ],
   "source": [
    "region_encode.get_feature_names_out()"
   ]
  },
  {
   "cell_type": "code",
   "execution_count": 28,
   "id": "c0de490f-1d70-435e-8660-0daafb24eeb1",
   "metadata": {},
   "outputs": [],
   "source": [
    "temp_df_train = pd.DataFrame(region_encode.fit_transform(X_train[[\"region\"]]),\n",
    "                             columns = region_encode.get_feature_names_out(),\n",
    "                             index = X_train.index)\n",
    "temp_df_test = pd.DataFrame(region_encode.transform(X_test[[\"region\"]]),\n",
    "                            columns = region_encode.get_feature_names_out(),\n",
    "                            index = X_test.index)"
   ]
  },
  {
   "cell_type": "code",
   "execution_count": 29,
   "id": "a4fed9f1-b374-474e-b66b-8961ce400758",
   "metadata": {},
   "outputs": [],
   "source": [
    "# concat\n",
    "\n",
    "X_train = pd.concat([X_train, temp_df_train], axis = 1)\n",
    "X_test = pd.concat([X_test, temp_df_test], axis = 1)"
   ]
  },
  {
   "cell_type": "code",
   "execution_count": 30,
   "id": "2188e991-cde2-45ca-96a5-955e0fb43902",
   "metadata": {},
   "outputs": [],
   "source": [
    "# remove region column\n",
    "\n",
    "X_train.drop(columns = [\"region\"], inplace = True)\n",
    "X_test.drop(columns = [\"region\"], inplace = True)"
   ]
  },
  {
   "cell_type": "code",
   "execution_count": 32,
   "id": "153cd65a-212d-4206-9f18-56bbb09d9a7d",
   "metadata": {},
   "outputs": [
    {
     "name": "stdout",
     "output_type": "stream",
     "text": [
      "<class 'pandas.core.frame.DataFrame'>\n",
      "Index: 1069 entries, 1114 to 1127\n",
      "Data columns (total 8 columns):\n",
      " #   Column            Non-Null Count  Dtype  \n",
      "---  ------            --------------  -----  \n",
      " 0   age               1069 non-null   int64  \n",
      " 1   sex               1069 non-null   float64\n",
      " 2   bmi               1069 non-null   float64\n",
      " 3   children          1069 non-null   int64  \n",
      " 4   smoker            1069 non-null   float64\n",
      " 5   region_northwest  1069 non-null   float64\n",
      " 6   region_southeast  1069 non-null   float64\n",
      " 7   region_southwest  1069 non-null   float64\n",
      "dtypes: float64(6), int64(2)\n",
      "memory usage: 107.5 KB\n"
     ]
    }
   ],
   "source": [
    "X_train.info()"
   ]
  },
  {
   "cell_type": "markdown",
   "id": "9e910a9f-434e-4e5b-883b-696ad4b91112",
   "metadata": {},
   "source": [
    "## creating baseline model"
   ]
  },
  {
   "cell_type": "code",
   "execution_count": 33,
   "id": "81338cf7-aae8-4906-9568-e86b2c7533fd",
   "metadata": {},
   "outputs": [
    {
     "name": "stdout",
     "output_type": "stream",
     "text": [
      "train_r2: 0.7299057809339075\n",
      "test_r2: 0.8069287081198013\n"
     ]
    }
   ],
   "source": [
    "from sklearn.linear_model import LinearRegression\n",
    "\n",
    "model0 = LinearRegression()\n",
    "\n",
    "model0.fit(X_train, y_train)\n",
    "\n",
    "train_r2 = model0.score(X_train, y_train)\n",
    "test_r2 = model0.score(X_test, y_test)\n",
    "\n",
    "print(f\"train_r2: {train_r2}\")\n",
    "print(f\"test_r2: {test_r2}\")"
   ]
  },
  {
   "cell_type": "code",
   "execution_count": 34,
   "id": "8ce6293a-5f30-4cdf-af5e-a5f293eb76e5",
   "metadata": {},
   "outputs": [],
   "source": [
    "from sklearn.metrics import r2_score\n",
    "from sklearn.metrics import mean_absolute_error\n",
    "\n",
    "def evaluation(X_train = X_train, X_test= X_test, y_train = y_train, y_test = y_test):\n",
    "  model = LinearRegression()\n",
    "  n_r_train = X_train.shape[0]\n",
    "  n_r_test = X_test.shape[0]\n",
    "  n_c_train = X_train.shape[1]\n",
    "  n_c_test = X_test.shape[1]\n",
    "\n",
    "  # model fit\n",
    "  model.fit(X_train, y_train)\n",
    "  y_pred_train = model.predict(X_train)\n",
    "  y_pred_test = model.predict(X_test)\n",
    "\n",
    "  # r2 score\n",
    "  train_r2 = r2_score(y_train, y_pred_train)\n",
    "  test_r2 = r2_score(y_test, y_pred_test)\n",
    "\n",
    "  # adj r2\n",
    "  adj_r2_train = 1 - ((1 - train_r2)*(n_r_train - 1)/ (n_r_train - n_c_train - 1))\n",
    "  adj_r2_test = 1 - ((1 - test_r2)*(n_r_test - 1)/ (n_r_test - n_c_test - 1))\n",
    "\n",
    "  # mae\n",
    "  train_mae = mean_absolute_error(y_train, y_pred_train)\n",
    "  test_mae = mean_absolute_error(y_test, y_pred_test)\n",
    "\n",
    "\n",
    "  print(f\"r2 score---\")\n",
    "  print(f\"train_r2: {round(train_r2,4)}, test_r2: {round(test_r2,4)}\")\n",
    "  print(\"-----------------\")\n",
    "  print(f\"adj r2 score---\")\n",
    "  print(f\"train_adj_r2: {round(adj_r2_train,4)}, test_adj_r2: {round(adj_r2_test,4)}\")\n",
    "  print(\"-----------------\")\n",
    "  print(f\"MAE---\")\n",
    "  print(f\"train_mae: {round(train_mae,4)}, test_mae: {round(test_mae,4)}\")\n",
    "  print(\"-----------------\")\n"
   ]
  },
  {
   "cell_type": "code",
   "execution_count": 35,
   "id": "99aead3a-6a85-4005-8f74-420236b813ec",
   "metadata": {},
   "outputs": [
    {
     "name": "stdout",
     "output_type": "stream",
     "text": [
      "r2 score---\n",
      "train_r2: 0.7299, test_r2: 0.8069\n",
      "-----------------\n",
      "adj r2 score---\n",
      "train_adj_r2: 0.7279, test_adj_r2: 0.801\n",
      "-----------------\n",
      "MAE---\n",
      "train_mae: 4181.9015, test_mae: 4177.0456\n",
      "-----------------\n"
     ]
    }
   ],
   "source": [
    "evaluation()"
   ]
  },
  {
   "cell_type": "code",
   "execution_count": 36,
   "id": "7a42e7e0-5879-436c-98ba-fb6960e2481e",
   "metadata": {},
   "outputs": [
    {
     "data": {
      "text/plain": [
       "13030.203369289055"
      ]
     },
     "execution_count": 36,
     "metadata": {},
     "output_type": "execute_result"
    }
   ],
   "source": [
    "y_train.mean()"
   ]
  },
  {
   "cell_type": "markdown",
   "id": "8ed48687-c39d-48cd-9b79-a6010354736d",
   "metadata": {},
   "source": [
    "## column selection"
   ]
  },
  {
   "cell_type": "code",
   "execution_count": 37,
   "id": "afc2efad-a661-4ccd-8c34-1864541bb735",
   "metadata": {},
   "outputs": [
    {
     "data": {
      "text/plain": [
       "<Axes: >"
      ]
     },
     "execution_count": 37,
     "metadata": {},
     "output_type": "execute_result"
    },
    {
     "data": {
      "image/png": "[encoded data removed]",
      "text/plain": [
       "<Figure size 640x480 with 2 Axes>"
      ]
     },
     "metadata": {},
     "output_type": "display_data"
    }
   ],
   "source": [
    "# correlation\n",
    "\n",
    "temp_df = X_train.copy()\n",
    "temp_df[\"charges\"] = y_train\n",
    "\n",
    "sns.heatmap(temp_df.corr(), annot=True)"
   ]
  },
  {
   "cell_type": "code",
   "execution_count": 39,
   "id": "5c3f03db-edbb-4e7f-8db3-514f5329aaec",
   "metadata": {},
   "outputs": [
    {
     "data": {
      "text/html": [
       "<div>\n",
       "<style scoped>\n",
       "    .dataframe tbody tr th:only-of-type {\n",
       "        vertical-align: middle;\n",
       "    }\n",
       "\n",
       "    .dataframe tbody tr th {\n",
       "        vertical-align: top;\n",
       "    }\n",
       "\n",
       "    .dataframe thead th {\n",
       "        text-align: right;\n",
       "    }\n",
       "</style>\n",
       "<table border=\"1\" class=\"dataframe\">\n",
       "  <thead>\n",
       "    <tr style=\"text-align: right;\">\n",
       "      <th></th>\n",
       "      <th>Variables</th>\n",
       "      <th>VIF</th>\n",
       "    </tr>\n",
       "  </thead>\n",
       "  <tbody>\n",
       "    <tr>\n",
       "      <th>2</th>\n",
       "      <td>bmi</td>\n",
       "      <td>11.778800</td>\n",
       "    </tr>\n",
       "    <tr>\n",
       "      <th>0</th>\n",
       "      <td>age</td>\n",
       "      <td>7.852117</td>\n",
       "    </tr>\n",
       "    <tr>\n",
       "      <th>6</th>\n",
       "      <td>region_southeast</td>\n",
       "      <td>2.290072</td>\n",
       "    </tr>\n",
       "    <tr>\n",
       "      <th>1</th>\n",
       "      <td>sex</td>\n",
       "      <td>2.041788</td>\n",
       "    </tr>\n",
       "    <tr>\n",
       "      <th>7</th>\n",
       "      <td>region_southwest</td>\n",
       "      <td>2.002452</td>\n",
       "    </tr>\n",
       "    <tr>\n",
       "      <th>5</th>\n",
       "      <td>region_northwest</td>\n",
       "      <td>1.941491</td>\n",
       "    </tr>\n",
       "    <tr>\n",
       "      <th>3</th>\n",
       "      <td>children</td>\n",
       "      <td>1.806171</td>\n",
       "    </tr>\n",
       "    <tr>\n",
       "      <th>4</th>\n",
       "      <td>smoker</td>\n",
       "      <td>1.255160</td>\n",
       "    </tr>\n",
       "  </tbody>\n",
       "</table>\n",
       "</div>"
      ],
      "text/plain": [
       "          Variables        VIF\n",
       "2               bmi  11.778800\n",
       "0               age   7.852117\n",
       "6  region_southeast   2.290072\n",
       "1               sex   2.041788\n",
       "7  region_southwest   2.002452\n",
       "5  region_northwest   1.941491\n",
       "3          children   1.806171\n",
       "4            smoker   1.255160"
      ]
     },
     "execution_count": 39,
     "metadata": {},
     "output_type": "execute_result"
    }
   ],
   "source": [
    "# calculate vif\n",
    "import statsmodels.stats.outliers_influence as oi\n",
    "\n",
    "\n",
    "def calculate_vif(X):\n",
    "    vif = pd.DataFrame()\n",
    "    vif['Variables'] = X.columns\n",
    "    vif['VIF'] = [oi.variance_inflation_factor(X.values, i) for i in range(X.shape[1])]\n",
    "    return vif\n",
    "\n",
    "vif = calculate_vif(X_train)\n",
    "vif.sort_values(by = [\"VIF\"], ascending = False)"
   ]
  },
  {
   "cell_type": "code",
   "execution_count": 40,
   "id": "0e25524c-840b-497d-b2e4-69e9d4bc64d2",
   "metadata": {},
   "outputs": [
    {
     "data": {
      "text/plain": [
       "9.550672861654276"
      ]
     },
     "execution_count": 40,
     "metadata": {},
     "output_type": "execute_result"
    }
   ],
   "source": [
    "oi.variance_inflation_factor(temp_df.values, 0)"
   ]
  },
  {
   "cell_type": "code",
   "execution_count": 41,
   "id": "ea116fc1-bcb6-4b85-98c8-d5d10c6fbf75",
   "metadata": {},
   "outputs": [
    {
     "data": {
      "text/html": [
       "<div>\n",
       "<style scoped>\n",
       "    .dataframe tbody tr th:only-of-type {\n",
       "        vertical-align: middle;\n",
       "    }\n",
       "\n",
       "    .dataframe tbody tr th {\n",
       "        vertical-align: top;\n",
       "    }\n",
       "\n",
       "    .dataframe thead th {\n",
       "        text-align: right;\n",
       "    }\n",
       "</style>\n",
       "<table border=\"1\" class=\"dataframe\">\n",
       "  <thead>\n",
       "    <tr style=\"text-align: right;\">\n",
       "      <th></th>\n",
       "      <th>col_name</th>\n",
       "      <th>mi_score</th>\n",
       "    </tr>\n",
       "  </thead>\n",
       "  <tbody>\n",
       "    <tr>\n",
       "      <th>0</th>\n",
       "      <td>age</td>\n",
       "      <td>1.437263</td>\n",
       "    </tr>\n",
       "    <tr>\n",
       "      <th>4</th>\n",
       "      <td>smoker</td>\n",
       "      <td>0.350576</td>\n",
       "    </tr>\n",
       "    <tr>\n",
       "      <th>3</th>\n",
       "      <td>children</td>\n",
       "      <td>0.157477</td>\n",
       "    </tr>\n",
       "    <tr>\n",
       "      <th>1</th>\n",
       "      <td>sex</td>\n",
       "      <td>0.137112</td>\n",
       "    </tr>\n",
       "    <tr>\n",
       "      <th>2</th>\n",
       "      <td>bmi</td>\n",
       "      <td>0.075698</td>\n",
       "    </tr>\n",
       "    <tr>\n",
       "      <th>5</th>\n",
       "      <td>region_northwest</td>\n",
       "      <td>0.042278</td>\n",
       "    </tr>\n",
       "    <tr>\n",
       "      <th>6</th>\n",
       "      <td>region_southeast</td>\n",
       "      <td>0.027775</td>\n",
       "    </tr>\n",
       "    <tr>\n",
       "      <th>7</th>\n",
       "      <td>region_southwest</td>\n",
       "      <td>0.014096</td>\n",
       "    </tr>\n",
       "  </tbody>\n",
       "</table>\n",
       "</div>"
      ],
      "text/plain": [
       "           col_name  mi_score\n",
       "0               age  1.437263\n",
       "4            smoker  0.350576\n",
       "3          children  0.157477\n",
       "1               sex  0.137112\n",
       "2               bmi  0.075698\n",
       "5  region_northwest  0.042278\n",
       "6  region_southeast  0.027775\n",
       "7  region_southwest  0.014096"
      ]
     },
     "execution_count": 41,
     "metadata": {},
     "output_type": "execute_result"
    }
   ],
   "source": [
    "# mutual info\n",
    "\n",
    "from sklearn.feature_selection import mutual_info_regression\n",
    "\n",
    "mi_scores = mutual_info_regression(X_train, y_train)\n",
    "mi_scores\n",
    "\n",
    "mi = pd.DataFrame()\n",
    "\n",
    "mi[\"col_name\"] = X_train.columns\n",
    "mi[\"mi_score\"] = mi_scores\n",
    "\n",
    "mi.sort_values(by = \"mi_score\", ascending = False)\n",
    "# for i, col in enumerate(X_train.columns):\n",
    "#     print(f\"Mutual Information between {col} and charges: {mi_scores[i]}\""
   ]
  },
  {
   "cell_type": "code",
   "execution_count": 42,
   "id": "e51db23e-902f-4dbe-b2aa-d21feb9fcbfe",
   "metadata": {},
   "outputs": [
    {
     "data": {
      "text/html": [
       "<table class=\"simpletable\">\n",
       "<caption>OLS Regression Results</caption>\n",
       "<tr>\n",
       "  <th>Dep. Variable:</th>         <td>charges</td>     <th>  R-squared:         </th> <td>   0.730</td> \n",
       "</tr>\n",
       "<tr>\n",
       "  <th>Model:</th>                   <td>OLS</td>       <th>  Adj. R-squared:    </th> <td>   0.728</td> \n",
       "</tr>\n",
       "<tr>\n",
       "  <th>Method:</th>             <td>Least Squares</td>  <th>  F-statistic:       </th> <td>   358.1</td> \n",
       "</tr>\n",
       "<tr>\n",
       "  <th>Date:</th>             <td>Fri, 05 Jan 2024</td> <th>  Prob (F-statistic):</th> <td>4.94e-295</td>\n",
       "</tr>\n",
       "<tr>\n",
       "  <th>Time:</th>                 <td>12:14:06</td>     <th>  Log-Likelihood:    </th> <td> -10831.</td> \n",
       "</tr>\n",
       "<tr>\n",
       "  <th>No. Observations:</th>      <td>  1069</td>      <th>  AIC:               </th> <td>2.168e+04</td>\n",
       "</tr>\n",
       "<tr>\n",
       "  <th>Df Residuals:</th>          <td>  1060</td>      <th>  BIC:               </th> <td>2.172e+04</td>\n",
       "</tr>\n",
       "<tr>\n",
       "  <th>Df Model:</th>              <td>     8</td>      <th>                     </th>     <td> </td>    \n",
       "</tr>\n",
       "<tr>\n",
       "  <th>Covariance Type:</th>      <td>nonrobust</td>    <th>                     </th>     <td> </td>    \n",
       "</tr>\n",
       "</table>\n",
       "<table class=\"simpletable\">\n",
       "<tr>\n",
       "          <td></td>            <th>coef</th>     <th>std err</th>      <th>t</th>      <th>P>|t|</th>  <th>[0.025</th>    <th>0.975]</th>  \n",
       "</tr>\n",
       "<tr>\n",
       "  <th>const</th>            <td>-1.109e+04</td> <td> 1114.260</td> <td>   -9.955</td> <td> 0.000</td> <td>-1.33e+04</td> <td>-8906.246</td>\n",
       "</tr>\n",
       "<tr>\n",
       "  <th>age</th>              <td>  248.2107</td> <td>   13.507</td> <td>   18.376</td> <td> 0.000</td> <td>  221.707</td> <td>  274.715</td>\n",
       "</tr>\n",
       "<tr>\n",
       "  <th>sex</th>              <td> -101.5421</td> <td>  375.787</td> <td>   -0.270</td> <td> 0.787</td> <td> -838.914</td> <td>  635.829</td>\n",
       "</tr>\n",
       "<tr>\n",
       "  <th>bmi</th>              <td>  318.7014</td> <td>   32.543</td> <td>    9.793</td> <td> 0.000</td> <td>  254.845</td> <td>  382.558</td>\n",
       "</tr>\n",
       "<tr>\n",
       "  <th>children</th>         <td>  533.0100</td> <td>  156.796</td> <td>    3.399</td> <td> 0.001</td> <td>  225.344</td> <td>  840.676</td>\n",
       "</tr>\n",
       "<tr>\n",
       "  <th>smoker</th>           <td> 2.308e+04</td> <td>  471.030</td> <td>   48.994</td> <td> 0.000</td> <td> 2.22e+04</td> <td>  2.4e+04</td>\n",
       "</tr>\n",
       "<tr>\n",
       "  <th>region_northwest</th> <td> -391.7615</td> <td>  537.999</td> <td>   -0.728</td> <td> 0.467</td> <td>-1447.426</td> <td>  663.903</td>\n",
       "</tr>\n",
       "<tr>\n",
       "  <th>region_southeast</th> <td> -838.9196</td> <td>  546.101</td> <td>   -1.536</td> <td> 0.125</td> <td>-1910.481</td> <td>  232.641</td>\n",
       "</tr>\n",
       "<tr>\n",
       "  <th>region_southwest</th> <td> -659.1398</td> <td>  539.459</td> <td>   -1.222</td> <td> 0.222</td> <td>-1717.668</td> <td>  399.388</td>\n",
       "</tr>\n",
       "</table>\n",
       "<table class=\"simpletable\">\n",
       "<tr>\n",
       "  <th>Omnibus:</th>       <td>266.561</td> <th>  Durbin-Watson:     </th> <td>   1.966</td> \n",
       "</tr>\n",
       "<tr>\n",
       "  <th>Prob(Omnibus):</th> <td> 0.000</td>  <th>  Jarque-Bera (JB):  </th> <td> 642.069</td> \n",
       "</tr>\n",
       "<tr>\n",
       "  <th>Skew:</th>          <td> 1.330</td>  <th>  Prob(JB):          </th> <td>3.77e-140</td>\n",
       "</tr>\n",
       "<tr>\n",
       "  <th>Kurtosis:</th>      <td> 5.710</td>  <th>  Cond. No.          </th> <td>    311.</td> \n",
       "</tr>\n",
       "</table><br/><br/>Notes:<br/>[1] Standard Errors assume that the covariance matrix of the errors is correctly specified."
      ],
      "text/latex": [
       "\\begin{center}\n",
       "\\begin{tabular}{lclc}\n",
       "\\toprule\n",
       "\\textbf{Dep. Variable:}    &     charges      & \\textbf{  R-squared:         } &     0.730   \\\\\n",
       "\\textbf{Model:}            &       OLS        & \\textbf{  Adj. R-squared:    } &     0.728   \\\\\n",
       "\\textbf{Method:}           &  Least Squares   & \\textbf{  F-statistic:       } &     358.1   \\\\\n",
       "\\textbf{Date:}             & Fri, 05 Jan 2024 & \\textbf{  Prob (F-statistic):} & 4.94e-295   \\\\\n",
       "\\textbf{Time:}             &     12:14:06     & \\textbf{  Log-Likelihood:    } &   -10831.   \\\\\n",
       "\\textbf{No. Observations:} &        1069      & \\textbf{  AIC:               } & 2.168e+04   \\\\\n",
       "\\textbf{Df Residuals:}     &        1060      & \\textbf{  BIC:               } & 2.172e+04   \\\\\n",
       "\\textbf{Df Model:}         &           8      & \\textbf{                     } &             \\\\\n",
       "\\textbf{Covariance Type:}  &    nonrobust     & \\textbf{                     } &             \\\\\n",
       "\\bottomrule\n",
       "\\end{tabular}\n",
       "\\begin{tabular}{lcccccc}\n",
       "                           & \\textbf{coef} & \\textbf{std err} & \\textbf{t} & \\textbf{P$> |$t$|$} & \\textbf{[0.025} & \\textbf{0.975]}  \\\\\n",
       "\\midrule\n",
       "\\textbf{const}             &   -1.109e+04  &     1114.260     &    -9.955  &         0.000        &    -1.33e+04    &    -8906.246     \\\\\n",
       "\\textbf{age}               &     248.2107  &       13.507     &    18.376  &         0.000        &      221.707    &      274.715     \\\\\n",
       "\\textbf{sex}               &    -101.5421  &      375.787     &    -0.270  &         0.787        &     -838.914    &      635.829     \\\\\n",
       "\\textbf{bmi}               &     318.7014  &       32.543     &     9.793  &         0.000        &      254.845    &      382.558     \\\\\n",
       "\\textbf{children}          &     533.0100  &      156.796     &     3.399  &         0.001        &      225.344    &      840.676     \\\\\n",
       "\\textbf{smoker}            &    2.308e+04  &      471.030     &    48.994  &         0.000        &     2.22e+04    &      2.4e+04     \\\\\n",
       "\\textbf{region\\_northwest} &    -391.7615  &      537.999     &    -0.728  &         0.467        &    -1447.426    &      663.903     \\\\\n",
       "\\textbf{region\\_southeast} &    -838.9196  &      546.101     &    -1.536  &         0.125        &    -1910.481    &      232.641     \\\\\n",
       "\\textbf{region\\_southwest} &    -659.1398  &      539.459     &    -1.222  &         0.222        &    -1717.668    &      399.388     \\\\\n",
       "\\bottomrule\n",
       "\\end{tabular}\n",
       "\\begin{tabular}{lclc}\n",
       "\\textbf{Omnibus:}       & 266.561 & \\textbf{  Durbin-Watson:     } &     1.966  \\\\\n",
       "\\textbf{Prob(Omnibus):} &   0.000 & \\textbf{  Jarque-Bera (JB):  } &   642.069  \\\\\n",
       "\\textbf{Skew:}          &   1.330 & \\textbf{  Prob(JB):          } & 3.77e-140  \\\\\n",
       "\\textbf{Kurtosis:}      &   5.710 & \\textbf{  Cond. No.          } &      311.  \\\\\n",
       "\\bottomrule\n",
       "\\end{tabular}\n",
       "%\\caption{OLS Regression Results}\n",
       "\\end{center}\n",
       "\n",
       "Notes: \\newline\n",
       " [1] Standard Errors assume that the covariance matrix of the errors is correctly specified."
      ],
      "text/plain": [
       "<class 'statsmodels.iolib.summary.Summary'>\n",
       "\"\"\"\n",
       "                            OLS Regression Results                            \n",
       "==============================================================================\n",
       "Dep. Variable:                charges   R-squared:                       0.730\n",
       "Model:                            OLS   Adj. R-squared:                  0.728\n",
       "Method:                 Least Squares   F-statistic:                     358.1\n",
       "Date:                Fri, 05 Jan 2024   Prob (F-statistic):          4.94e-295\n",
       "Time:                        12:14:06   Log-Likelihood:                -10831.\n",
       "No. Observations:                1069   AIC:                         2.168e+04\n",
       "Df Residuals:                    1060   BIC:                         2.172e+04\n",
       "Df Model:                           8                                         \n",
       "Covariance Type:            nonrobust                                         \n",
       "====================================================================================\n",
       "                       coef    std err          t      P>|t|      [0.025      0.975]\n",
       "------------------------------------------------------------------------------------\n",
       "const            -1.109e+04   1114.260     -9.955      0.000   -1.33e+04   -8906.246\n",
       "age                248.2107     13.507     18.376      0.000     221.707     274.715\n",
       "sex               -101.5421    375.787     -0.270      0.787    -838.914     635.829\n",
       "bmi                318.7014     32.543      9.793      0.000     254.845     382.558\n",
       "children           533.0100    156.796      3.399      0.001     225.344     840.676\n",
       "smoker            2.308e+04    471.030     48.994      0.000    2.22e+04     2.4e+04\n",
       "region_northwest  -391.7615    537.999     -0.728      0.467   -1447.426     663.903\n",
       "region_southeast  -838.9196    546.101     -1.536      0.125   -1910.481     232.641\n",
       "region_southwest  -659.1398    539.459     -1.222      0.222   -1717.668     399.388\n",
       "==============================================================================\n",
       "Omnibus:                      266.561   Durbin-Watson:                   1.966\n",
       "Prob(Omnibus):                  0.000   Jarque-Bera (JB):              642.069\n",
       "Skew:                           1.330   Prob(JB):                    3.77e-140\n",
       "Kurtosis:                       5.710   Cond. No.                         311.\n",
       "==============================================================================\n",
       "\n",
       "Notes:\n",
       "[1] Standard Errors assume that the covariance matrix of the errors is correctly specified.\n",
       "\"\"\""
      ]
     },
     "execution_count": 42,
     "metadata": {},
     "output_type": "execute_result"
    }
   ],
   "source": [
    "# p- values\n",
    "import statsmodels.api as sm\n",
    "\n",
    "X_train_sm = sm.add_constant(X_train)\n",
    "X_test_sm = sm.add_constant(X_test)\n",
    "\n",
    "\n",
    "model = sm.OLS(y_train, X_train_sm).fit()\n",
    "model.summary()"
   ]
  },
  {
   "cell_type": "code",
   "execution_count": 43,
   "id": "fd78b268-f68a-4e36-9fd4-457b4e725fee",
   "metadata": {},
   "outputs": [
    {
     "data": {
      "text/plain": [
       "Index(['age', 'sex', 'bmi', 'children', 'smoker', 'region_northwest',\n",
       "       'region_southeast', 'region_southwest'],\n",
       "      dtype='object')"
      ]
     },
     "execution_count": 43,
     "metadata": {},
     "output_type": "execute_result"
    }
   ],
   "source": [
    "X_train.columns"
   ]
  },
  {
   "cell_type": "code",
   "execution_count": 44,
   "id": "727d6e99-26c1-4e35-bb03-93d568fcbe86",
   "metadata": {},
   "outputs": [
    {
     "name": "stdout",
     "output_type": "stream",
     "text": [
      "r2 score---\n",
      "train_r2: 0.7292, test_r2: 0.8046\n",
      "-----------------\n",
      "adj r2 score---\n",
      "train_adj_r2: 0.7282, test_adj_r2: 0.8016\n",
      "-----------------\n",
      "MAE---\n",
      "train_mae: 4187.5235, test_mae: 4198.5926\n",
      "-----------------\n"
     ]
    }
   ],
   "source": [
    "cols = ['age', 'bmi', 'children', 'smoker']\n",
    "\n",
    "X_train_new = X_train[cols]\n",
    "X_test_new = X_test[cols]\n",
    "evaluation(X_train_new, X_test_new)"
   ]
  },
  {
   "cell_type": "code",
   "execution_count": 45,
   "id": "30867795-e0e0-483b-a12b-1636c2e509c7",
   "metadata": {},
   "outputs": [
    {
     "name": "stdout",
     "output_type": "stream",
     "text": [
      "r2 score---\n",
      "train_r2: 0.7262, test_r2: 0.805\n",
      "-----------------\n",
      "adj r2 score---\n",
      "train_adj_r2: 0.7254, test_adj_r2: 0.8027\n",
      "-----------------\n",
      "MAE---\n",
      "train_mae: 4227.8274, test_mae: 4191.7043\n",
      "-----------------\n"
     ]
    }
   ],
   "source": [
    "cols = ['age', 'bmi', 'smoker']\n",
    "\n",
    "X_train_new = X_train[cols]\n",
    "X_test_new = X_test[cols]\n",
    "evaluation(X_train_new, X_test_new)"
   ]
  },
  {
   "cell_type": "code",
   "execution_count": 47,
   "id": "0b33c281-1a4e-49a2-96b2-598bef76ce4c",
   "metadata": {},
   "outputs": [
    {
     "data": {
      "text/plain": [
       "<Axes: >"
      ]
     },
     "execution_count": 47,
     "metadata": {},
     "output_type": "execute_result"
    },
    {
     "data": {
      "image/png": "[encoded data removed]",
      "text/plain": [
       "<Figure size 640x480 with 1 Axes>"
      ]
     },
     "metadata": {},
     "output_type": "display_data"
    }
   ],
   "source": [
    "sns.boxplot(y_train)"
   ]
  },
  {
   "cell_type": "code",
   "execution_count": 46,
   "id": "bef804db-3121-4d8e-b748-3f6df926e804",
   "metadata": {},
   "outputs": [],
   "source": [
    "## log transformation of output column\n",
    "\n",
    "y_train_log = np.log(y_train)\n",
    "y_test_log = np.log(y_test)"
   ]
  },
  {
   "cell_type": "code",
   "execution_count": 48,
   "id": "66ff3fb7-d43a-435e-a3f1-8da3d8b7a8aa",
   "metadata": {},
   "outputs": [
    {
     "name": "stdout",
     "output_type": "stream",
     "text": [
      "r2 score---\n",
      "train_r2: 0.7278, test_r2: 0.8019\n",
      "-----------------\n",
      "adj r2 score---\n",
      "train_adj_r2: 0.7271, test_adj_r2: 0.7996\n",
      "-----------------\n",
      "MAE---\n",
      "train_mae: 0.3071, test_mae: 0.2857\n",
      "-----------------\n"
     ]
    }
   ],
   "source": [
    "cols = ['age', 'bmi', 'smoker']\n",
    "\n",
    "X_train_new = X_train[cols]\n",
    "X_test_new = X_test[cols]\n",
    "evaluation(X_train_new, X_test_new, y_train_log, y_test_log)"
   ]
  },
  {
   "cell_type": "code",
   "execution_count": 49,
   "id": "db7031b4-d020-4ed9-9e8a-10cd8b250f29",
   "metadata": {},
   "outputs": [
    {
     "name": "stdout",
     "output_type": "stream",
     "text": [
      "r2 score---\n",
      "train_r2: 0.7278, test_r2: 0.8019\n",
      "-----------------\n",
      "adj r2 score---\n",
      "train_adj_r2: 0.7271, test_adj_r2: 0.7996\n",
      "-----------------\n",
      "MAE---\n",
      "train_mae: 0.3071, test_mae: 0.2857\n",
      "-----------------\n"
     ]
    }
   ],
   "source": [
    "# scale input data\n",
    "\n",
    "from sklearn.preprocessing import StandardScaler, MinMaxScaler\n",
    "\n",
    "scaler = StandardScaler()\n",
    "\n",
    "X_train_scale = scaler.fit_transform(X_train[cols])\n",
    "X_test_scale = scaler.transform(X_test[cols])\n",
    "\n",
    "evaluation(X_train_scale, X_test_scale, y_train_log,y_test_log)"
   ]
  },
  {
   "cell_type": "code",
   "execution_count": 51,
   "id": "6c400140-9bd9-4ef5-b5fb-0de26bc1b217",
   "metadata": {},
   "outputs": [
    {
     "name": "stdout",
     "output_type": "stream",
     "text": [
      "r2 score---\n",
      "train_r2: 0.5827, test_r2: 0.6472\n",
      "-----------------\n",
      "adj r2 score---\n",
      "train_adj_r2: 0.5814, test_adj_r2: 0.6426\n",
      "-----------------\n",
      "MAE---\n",
      "train_mae: 2568.189, test_mae: 2278.5009\n",
      "-----------------\n"
     ]
    },
    {
     "name": "stderr",
     "output_type": "stream",
     "text": [
      "C:\\Users\\dell\\AppData\\Local\\Temp\\ipykernel_9376\\2380143882.py:14: SettingWithCopyWarning: \n",
      "A value is trying to be set on a copy of a slice from a DataFrame\n",
      "\n",
      "See the caveats in the documentation: https://pandas.pydata.org/pandas-docs/stable/user_guide/indexing.html#returning-a-view-versus-a-copy\n",
      "  X_train_new.drop(index = drop_index_train, inplace = True)\n",
      "C:\\Users\\dell\\AppData\\Local\\Temp\\ipykernel_9376\\2380143882.py:15: SettingWithCopyWarning: \n",
      "A value is trying to be set on a copy of a slice from a DataFrame\n",
      "\n",
      "See the caveats in the documentation: https://pandas.pydata.org/pandas-docs/stable/user_guide/indexing.html#returning-a-view-versus-a-copy\n",
      "  X_test_new.drop(index = drop_index_test, inplace = True)\n"
     ]
    }
   ],
   "source": [
    "## remove outlier\n",
    "X_train_new = X_train[cols]\n",
    "X_test_new = X_test[cols]\n",
    "\n",
    "q1 = y_train.quantile(0.25)\n",
    "q3 = y_train.quantile(0.75)\n",
    "iqr = q3 - q1\n",
    "lw = q1 - 1.5*iqr\n",
    "uw = q3 + 1.5*iqr\n",
    "\n",
    "drop_index_train = y_train[~((y_train<=uw) & (y_train >=lw))].index\n",
    "drop_index_test = y_test[~((y_test<=uw) & (y_test >=lw))].index\n",
    "\n",
    "X_train_new.drop(index = drop_index_train, inplace = True)\n",
    "X_test_new.drop(index = drop_index_test, inplace = True)\n",
    "\n",
    "y_train_new = y_train.drop(index = drop_index_train)\n",
    "y_test_new = y_test.drop(index = drop_index_test)\n",
    "\n",
    "evaluation(X_train_new, X_test_new, y_train_new, y_test_new)"
   ]
  },
  {
   "cell_type": "code",
   "execution_count": 52,
   "id": "20d6539b-001f-4a2d-9a52-5f3c37f0b7b7",
   "metadata": {},
   "outputs": [
    {
     "data": {
      "text/plain": [
       "1114     2396.09590\n",
       "968      3279.86855\n",
       "599     33471.97189\n",
       "170     13405.39030\n",
       "275      9715.84100\n",
       "           ...     \n",
       "1096    44641.19740\n",
       "1131     3693.42800\n",
       "1295     1964.78000\n",
       "861      7151.09200\n",
       "1127     5836.52040\n",
       "Name: charges, Length: 1069, dtype: float64"
      ]
     },
     "execution_count": 52,
     "metadata": {},
     "output_type": "execute_result"
    }
   ],
   "source": [
    "y_train"
   ]
  },
  {
   "cell_type": "code",
   "execution_count": 53,
   "id": "c60c2c42-cdb7-4fa1-8811-293e1582067f",
   "metadata": {},
   "outputs": [
    {
     "name": "stdout",
     "output_type": "stream",
     "text": [
      "r2 score---\n",
      "train_r2: 0.7209, test_r2: 0.8161\n",
      "-----------------\n",
      "adj r2 score---\n",
      "train_adj_r2: 0.7201, test_adj_r2: 0.814\n",
      "-----------------\n",
      "MAE---\n",
      "train_mae: 3430.6555, test_mae: 3107.7636\n",
      "-----------------\n"
     ]
    }
   ],
   "source": [
    "## clip outlier\n",
    "\n",
    "## remove outlier\n",
    "X_train_new = X_train[cols]\n",
    "X_test_new = X_test[cols]\n",
    "\n",
    "q1 = y_train.quantile(0.25)\n",
    "q3 = y_train.quantile(0.75)\n",
    "iqr = q3 - q1\n",
    "lw = q1 - 1.5*iqr\n",
    "uw = q3 + 1.5*iqr\n",
    "\n",
    "y_train_new = np.where(y_train >uw, uw,\n",
    "                       np.where(y_train < lw, lw,y_train))\n",
    "\n",
    "y_test_new = np.where(y_test >uw, uw,\n",
    "                       np.where(y_test < lw, lw,y_test))\n",
    "evaluation(X_train_new, X_test_new, y_train_new, y_test_new)"
   ]
  },
  {
   "cell_type": "code",
   "execution_count": 54,
   "id": "a00b3723-d82b-4700-ba30-e67b9647188b",
   "metadata": {},
   "outputs": [
    {
     "data": {
      "text/html": [
       "<div>\n",
       "<style scoped>\n",
       "    .dataframe tbody tr th:only-of-type {\n",
       "        vertical-align: middle;\n",
       "    }\n",
       "\n",
       "    .dataframe tbody tr th {\n",
       "        vertical-align: top;\n",
       "    }\n",
       "\n",
       "    .dataframe thead th {\n",
       "        text-align: right;\n",
       "    }\n",
       "</style>\n",
       "<table border=\"1\" class=\"dataframe\">\n",
       "  <thead>\n",
       "    <tr style=\"text-align: right;\">\n",
       "      <th></th>\n",
       "      <th>age</th>\n",
       "      <th>bmi</th>\n",
       "      <th>smoker</th>\n",
       "    </tr>\n",
       "  </thead>\n",
       "  <tbody>\n",
       "    <tr>\n",
       "      <th>1114</th>\n",
       "      <td>23</td>\n",
       "      <td>24.510</td>\n",
       "      <td>0.0</td>\n",
       "    </tr>\n",
       "    <tr>\n",
       "      <th>968</th>\n",
       "      <td>21</td>\n",
       "      <td>25.745</td>\n",
       "      <td>0.0</td>\n",
       "    </tr>\n",
       "    <tr>\n",
       "      <th>599</th>\n",
       "      <td>52</td>\n",
       "      <td>37.525</td>\n",
       "      <td>0.0</td>\n",
       "    </tr>\n",
       "    <tr>\n",
       "      <th>170</th>\n",
       "      <td>63</td>\n",
       "      <td>41.470</td>\n",
       "      <td>0.0</td>\n",
       "    </tr>\n",
       "    <tr>\n",
       "      <th>275</th>\n",
       "      <td>47</td>\n",
       "      <td>26.600</td>\n",
       "      <td>0.0</td>\n",
       "    </tr>\n",
       "  </tbody>\n",
       "</table>\n",
       "</div>"
      ],
      "text/plain": [
       "      age     bmi  smoker\n",
       "1114   23  24.510     0.0\n",
       "968    21  25.745     0.0\n",
       "599    52  37.525     0.0\n",
       "170    63  41.470     0.0\n",
       "275    47  26.600     0.0"
      ]
     },
     "execution_count": 54,
     "metadata": {},
     "output_type": "execute_result"
    }
   ],
   "source": [
    "from sklearn.preprocessing import PolynomialFeatures\n",
    "\n",
    "temp_df = X_train_new.head()\n",
    "temp_df"
   ]
  },
  {
   "cell_type": "code",
   "execution_count": 55,
   "id": "ad900284-a5f6-4720-9797-83fc1b94baef",
   "metadata": {},
   "outputs": [
    {
     "data": {
      "text/html": [
       "<div>\n",
       "<style scoped>\n",
       "    .dataframe tbody tr th:only-of-type {\n",
       "        vertical-align: middle;\n",
       "    }\n",
       "\n",
       "    .dataframe tbody tr th {\n",
       "        vertical-align: top;\n",
       "    }\n",
       "\n",
       "    .dataframe thead th {\n",
       "        text-align: right;\n",
       "    }\n",
       "</style>\n",
       "<table border=\"1\" class=\"dataframe\">\n",
       "  <thead>\n",
       "    <tr style=\"text-align: right;\">\n",
       "      <th></th>\n",
       "      <th>0</th>\n",
       "      <th>1</th>\n",
       "      <th>2</th>\n",
       "      <th>3</th>\n",
       "      <th>4</th>\n",
       "      <th>5</th>\n",
       "      <th>6</th>\n",
       "    </tr>\n",
       "  </thead>\n",
       "  <tbody>\n",
       "    <tr>\n",
       "      <th>0</th>\n",
       "      <td>1.0</td>\n",
       "      <td>529.0</td>\n",
       "      <td>563.730</td>\n",
       "      <td>0.0</td>\n",
       "      <td>600.740100</td>\n",
       "      <td>0.0</td>\n",
       "      <td>0.0</td>\n",
       "    </tr>\n",
       "    <tr>\n",
       "      <th>1</th>\n",
       "      <td>1.0</td>\n",
       "      <td>441.0</td>\n",
       "      <td>540.645</td>\n",
       "      <td>0.0</td>\n",
       "      <td>662.805025</td>\n",
       "      <td>0.0</td>\n",
       "      <td>0.0</td>\n",
       "    </tr>\n",
       "    <tr>\n",
       "      <th>2</th>\n",
       "      <td>1.0</td>\n",
       "      <td>2704.0</td>\n",
       "      <td>1951.300</td>\n",
       "      <td>0.0</td>\n",
       "      <td>1408.125625</td>\n",
       "      <td>0.0</td>\n",
       "      <td>0.0</td>\n",
       "    </tr>\n",
       "    <tr>\n",
       "      <th>3</th>\n",
       "      <td>1.0</td>\n",
       "      <td>3969.0</td>\n",
       "      <td>2612.610</td>\n",
       "      <td>0.0</td>\n",
       "      <td>1719.760900</td>\n",
       "      <td>0.0</td>\n",
       "      <td>0.0</td>\n",
       "    </tr>\n",
       "    <tr>\n",
       "      <th>4</th>\n",
       "      <td>1.0</td>\n",
       "      <td>2209.0</td>\n",
       "      <td>1250.200</td>\n",
       "      <td>0.0</td>\n",
       "      <td>707.560000</td>\n",
       "      <td>0.0</td>\n",
       "      <td>0.0</td>\n",
       "    </tr>\n",
       "  </tbody>\n",
       "</table>\n",
       "</div>"
      ],
      "text/plain": [
       "     0       1         2    3            4    5    6\n",
       "0  1.0   529.0   563.730  0.0   600.740100  0.0  0.0\n",
       "1  1.0   441.0   540.645  0.0   662.805025  0.0  0.0\n",
       "2  1.0  2704.0  1951.300  0.0  1408.125625  0.0  0.0\n",
       "3  1.0  3969.0  2612.610  0.0  1719.760900  0.0  0.0\n",
       "4  1.0  2209.0  1250.200  0.0   707.560000  0.0  0.0"
      ]
     },
     "execution_count": 55,
     "metadata": {},
     "output_type": "execute_result"
    }
   ],
   "source": [
    "poly = PolynomialFeatures((2,2))\n",
    "pd.DataFrame(poly.fit_transform(temp_df))"
   ]
  },
  {
   "cell_type": "code",
   "execution_count": 56,
   "id": "9ddf4901-7d14-4d9e-9c22-2977119bda53",
   "metadata": {},
   "outputs": [],
   "source": [
    "from sklearn.preprocessing import PolynomialFeatures\n",
    "\n",
    "poly_col = [\"age\",\"bmi\", \"smoker\"]\n",
    "\n",
    "poly = PolynomialFeatures((2,4), include_bias = False)\n",
    "\n"
   ]
  },
  {
   "cell_type": "code",
   "execution_count": 57,
   "id": "f1755c2c-912b-4116-8edf-6fad7bc4e600",
   "metadata": {},
   "outputs": [],
   "source": [
    "temp_poly_X_train = pd.DataFrame(poly.fit_transform(X_train[poly_col]),index = X_train.index)\n",
    "temp_poly_X_test = pd.DataFrame(poly.transform(X_test[poly_col]),index = X_test.index)\n"
   ]
  },
  {
   "cell_type": "code",
   "execution_count": 58,
   "id": "9bd2887f-b891-4233-ac33-00fab3212309",
   "metadata": {},
   "outputs": [
    {
     "data": {
      "text/html": [
       "<style>#sk-container-id-1 {color: black;}#sk-container-id-1 pre{padding: 0;}#sk-container-id-1 div.sk-toggleable {background-color: white;}#sk-container-id-1 label.sk-toggleable__label {cursor: pointer;display: block;width: 100%;margin-bottom: 0;padding: 0.3em;box-sizing: border-box;text-align: center;}#sk-container-id-1 label.sk-toggleable__label-arrow:before {content: \"▸\";float: left;margin-right: 0.25em;color: #696969;}#sk-container-id-1 label.sk-toggleable__label-arrow:hover:before {color: black;}#sk-container-id-1 div.sk-estimator:hover label.sk-toggleable__label-arrow:before {color: black;}#sk-container-id-1 div.sk-toggleable__content {max-height: 0;max-width: 0;overflow: hidden;text-align: left;background-color: #f0f8ff;}#sk-container-id-1 div.sk-toggleable__content pre {margin: 0.2em;color: black;border-radius: 0.25em;background-color: #f0f8ff;}#sk-container-id-1 input.sk-toggleable__control:checked~div.sk-toggleable__content {max-height: 200px;max-width: 100%;overflow: auto;}#sk-container-id-1 input.sk-toggleable__control:checked~label.sk-toggleable__label-arrow:before {content: \"▾\";}#sk-container-id-1 div.sk-estimator input.sk-toggleable__control:checked~label.sk-toggleable__label {background-color: #d4ebff;}#sk-container-id-1 div.sk-label input.sk-toggleable__control:checked~label.sk-toggleable__label {background-color: #d4ebff;}#sk-container-id-1 input.sk-hidden--visually {border: 0;clip: rect(1px 1px 1px 1px);clip: rect(1px, 1px, 1px, 1px);height: 1px;margin: -1px;overflow: hidden;padding: 0;position: absolute;width: 1px;}#sk-container-id-1 div.sk-estimator {font-family: monospace;background-color: #f0f8ff;border: 1px dotted black;border-radius: 0.25em;box-sizing: border-box;margin-bottom: 0.5em;}#sk-container-id-1 div.sk-estimator:hover {background-color: #d4ebff;}#sk-container-id-1 div.sk-parallel-item::after {content: \"\";width: 100%;border-bottom: 1px solid gray;flex-grow: 1;}#sk-container-id-1 div.sk-label:hover label.sk-toggleable__label {background-color: #d4ebff;}#sk-container-id-1 div.sk-serial::before {content: \"\";position: absolute;border-left: 1px solid gray;box-sizing: border-box;top: 0;bottom: 0;left: 50%;z-index: 0;}#sk-container-id-1 div.sk-serial {display: flex;flex-direction: column;align-items: center;background-color: white;padding-right: 0.2em;padding-left: 0.2em;position: relative;}#sk-container-id-1 div.sk-item {position: relative;z-index: 1;}#sk-container-id-1 div.sk-parallel {display: flex;align-items: stretch;justify-content: center;background-color: white;position: relative;}#sk-container-id-1 div.sk-item::before, #sk-container-id-1 div.sk-parallel-item::before {content: \"\";position: absolute;border-left: 1px solid gray;box-sizing: border-box;top: 0;bottom: 0;left: 50%;z-index: -1;}#sk-container-id-1 div.sk-parallel-item {display: flex;flex-direction: column;z-index: 1;position: relative;background-color: white;}#sk-container-id-1 div.sk-parallel-item:first-child::after {align-self: flex-end;width: 50%;}#sk-container-id-1 div.sk-parallel-item:last-child::after {align-self: flex-start;width: 50%;}#sk-container-id-1 div.sk-parallel-item:only-child::after {width: 0;}#sk-container-id-1 div.sk-dashed-wrapped {border: 1px dashed gray;margin: 0 0.4em 0.5em 0.4em;box-sizing: border-box;padding-bottom: 0.4em;background-color: white;}#sk-container-id-1 div.sk-label label {font-family: monospace;font-weight: bold;display: inline-block;line-height: 1.2em;}#sk-container-id-1 div.sk-label-container {text-align: center;}#sk-container-id-1 div.sk-container {/* jupyter's `normalize.less` sets `[hidden] { display: none; }` but bootstrap.min.css set `[hidden] { display: none !important; }` so we also need the `!important` here to be able to override the default hidden behavior on the sphinx rendered scikit-learn.org. See: https://github.com/scikit-learn/scikit-learn/issues/21755 */display: inline-block !important;position: relative;}#sk-container-id-1 div.sk-text-repr-fallback {display: none;}</style><div id=\"sk-container-id-1\" class=\"sk-top-container\"><div class=\"sk-text-repr-fallback\"><pre>LinearRegression()</pre><b>In a Jupyter environment, please rerun this cell to show the HTML representation or trust the notebook. <br />On GitHub, the HTML representation is unable to render, please try loading this page with nbviewer.org.</b></div><div class=\"sk-container\" hidden><div class=\"sk-item\"><div class=\"sk-estimator sk-toggleable\"><input class=\"sk-toggleable__control sk-hidden--visually\" id=\"sk-estimator-id-1\" type=\"checkbox\" checked><label for=\"sk-estimator-id-1\" class=\"sk-toggleable__label sk-toggleable__label-arrow\">LinearRegression</label><div class=\"sk-toggleable__content\"><pre>LinearRegression()</pre></div></div></div></div></div>"
      ],
      "text/plain": [
       "LinearRegression()"
      ]
     },
     "execution_count": 58,
     "metadata": {},
     "output_type": "execute_result"
    }
   ],
   "source": [
    "X_train_new = X_train[cols]\n",
    "X_test_new = X_test[cols]\n",
    "\n",
    "model = LinearRegression()\n",
    "\n",
    "model.fit(X_train_new, y_train)"
   ]
  },
  {
   "cell_type": "code",
   "execution_count": 59,
   "id": "40fe8477-137b-44ee-9704-9d82d8283665",
   "metadata": {},
   "outputs": [
    {
     "data": {
      "text/plain": [
       "['insurance_predictor.joblib']"
      ]
     },
     "execution_count": 59,
     "metadata": {},
     "output_type": "execute_result"
    }
   ],
   "source": [
    "import joblib\n",
    "\n",
    "# save the model to a file\n",
    "joblib.dump(model, 'insurance_predictor.joblib')"
   ]
  },
  {
   "cell_type": "code",
   "execution_count": 61,
   "id": "635a5151-84e6-415b-a6a5-852feb3e6965",
   "metadata": {},
   "outputs": [],
   "source": [
    "model2 = joblib.load(\"insurance_predictor.joblib\")"
   ]
  },
  {
   "cell_type": "code",
   "execution_count": 62,
   "id": "c4d10d4a-4e46-4e05-84ca-b84ae62d1b70",
   "metadata": {},
   "outputs": [
    {
     "name": "stderr",
     "output_type": "stream",
     "text": [
      "C:\\Users\\dell\\AppData\\Local\\Programs\\Python\\Python311\\Lib\\site-packages\\sklearn\\base.py:465: UserWarning: X does not have valid feature names, but LinearRegression was fitted with feature names\n",
      "  warnings.warn(\n"
     ]
    },
    {
     "data": {
      "text/plain": [
       "array([1370.19157276])"
      ]
     },
     "execution_count": 62,
     "metadata": {},
     "output_type": "execute_result"
    }
   ],
   "source": [
    "model2.predict([[24,20,0]])"
   ]
  }
 ],
 "metadata": {
  "kernelspec": {
   "display_name": "Python 3 (ipykernel)",
   "language": "python",
   "name": "python3"
  },
  "language_info": {
   "codemirror_mode": {
    "name": "ipython",
    "version": 3
   },
   "file_extension": ".py",
   "mimetype": "text/x-python",
   "name": "python",
   "nbconvert_exporter": "python",
   "pygments_lexer": "ipython3",
   "version": "3.11.4"
  }
 },
 "nbformat": 4,
 "nbformat_minor": 5
}
